{
 "cells": [
  {
   "cell_type": "code",
   "execution_count": null,
   "id": "4d06f02a",
   "metadata": {},
   "outputs": [],
   "source": [
    "import pandas as pd\n",
    "import numpy as np\n",
    "import seaborn as sns\n",
    "import matplotlib.pyplot as plt # plotting\n",
    "from mpl_toolkits.mplot3d import Axes3D\n"
   ]
  },
  {
   "cell_type": "code",
   "execution_count": null,
   "id": "81eb828e",
   "metadata": {},
   "outputs": [],
   "source": [
    "url = \"https://raw.githubusercontent.com/Ya-2/Churn/main/Customer_Churn.csv\"\n",
    "df = pd.read_csv(url)\n",
    "df.head(5)"
   ]
  },
  {
   "cell_type": "markdown",
   "id": "2e474f26",
   "metadata": {},
   "source": [
    "# Data description "
   ]
  },
  {
   "cell_type": "code",
   "execution_count": null,
   "id": "38e2bf1b",
   "metadata": {},
   "outputs": [],
   "source": [
    "nombre_de_tuples = df.shape[0]\n",
    "print(\"Nombre de tuples :\", nombre_de_tuples)"
   ]
  },
  {
   "cell_type": "code",
   "execution_count": null,
   "id": "91186f2e",
   "metadata": {},
   "outputs": [],
   "source": [
    "df.info()"
   ]
  },
  {
   "cell_type": "code",
   "execution_count": null,
   "id": "b162d0c8",
   "metadata": {},
   "outputs": [],
   "source": [
    "df.nunique()"
   ]
  },
  {
   "cell_type": "code",
   "execution_count": null,
   "id": "ce3c00d9",
   "metadata": {},
   "outputs": [],
   "source": [
    "df.isnull().sum()"
   ]
  },
  {
   "cell_type": "markdown",
   "id": "91336978",
   "metadata": {},
   "source": [
    "# Etudes des données"
   ]
  },
  {
   "cell_type": "markdown",
   "id": "77cd0700",
   "metadata": {},
   "source": [
    "## Analyse univariée"
   ]
  },
  {
   "cell_type": "code",
   "execution_count": null,
   "id": "256214fb",
   "metadata": {},
   "outputs": [],
   "source": [
    "\n",
    "\n",
    "# Liste des colonnes et étiquettes pour les pie charts\n",
    "columns = ['Churn', 'Status','Tariff Plan']\n",
    "labels_dict = {'Churn': ['Désabonné', 'Non désabonné'], 'Status': ['Actif', 'Non actif'], 'Tariff Plan' : ['Contractuel','Pay as you go']}\n",
    "\n",
    "# Liste des couleurs pour les pie charts\n",
    "colors_dict = {'Churn': ['#ff9999', '#66b3ff'], 'Status': ['#99ff99', '#ffcc99'], 'Tariff Plan': ['#F89FE0', '#F18994']}\n",
    "\n",
    "\n",
    "# Calcul des pourcentages pour chaque colonne et création des pie charts\n",
    "fig, axs = plt.subplots(1, len(columns), figsize=(12, 8))\n",
    "\n",
    "for i, col in enumerate(columns):\n",
    "    sizes = df[col].value_counts(normalize=True) * 100\n",
    "    labels = labels_dict[col]\n",
    "    colors = colors_dict[col]\n",
    "\n",
    "    axs[i].pie(sizes, labels=labels, colors=colors, autopct='%1.1f%%', startangle=90)\n",
    "\n",
    "plt.subplots_adjust(wspace=0.4)\n",
    "plt.show()\n"
   ]
  },
  {
   "cell_type": "markdown",
   "id": "024b0674",
   "metadata": {},
   "source": []
  },
  {
   "cell_type": "code",
   "execution_count": null,
   "id": "f5bd2348",
   "metadata": {
    "scrolled": true
   },
   "outputs": [],
   "source": [
    "sns.set_style(\"dark\")\n",
    "sns.set_palette(sns.color_palette(\"husl\", 8))\n",
    "\n",
    "fig, axes = plt.subplots(1, 2, figsize=(10, 3))\n",
    "sns.countplot(x=\"Age Group\", data=df, ax=axes[0])\n",
    "axes[0].set_title('Distribution par groupe d\\'âge')\n",
    "sns.countplot(x=\"Age\", data=df, ax=axes[1])\n",
    "axes[1].set_title('Distribution par âge')\n",
    "plt.show()"
   ]
  },
  {
   "cell_type": "markdown",
   "id": "e8e6772c",
   "metadata": {},
   "source": [
    "similarité entre les deux variables"
   ]
  },
  {
   "cell_type": "code",
   "execution_count": null,
   "id": "ad667498",
   "metadata": {},
   "outputs": [],
   "source": []
  },
  {
   "cell_type": "markdown",
   "id": "e2d28668",
   "metadata": {},
   "source": [
    "### Distribution des variables"
   ]
  },
  {
   "cell_type": "code",
   "execution_count": null,
   "id": "98ac6baa",
   "metadata": {},
   "outputs": [],
   "source": [
    "cols = ['Subscription  Length', 'Seconds of Use',\n",
    "        'Frequency of use', 'Frequency of SMS', 'Distinct Called Numbers',\n",
    "        'Customer Value']\n",
    "\n",
    "fig, axes = plt.subplots(nrows=2, ncols=3, figsize=(20,10))\n",
    "axes = axes.flatten()\n",
    "\n",
    "for i, col in enumerate(cols):\n",
    "    sns.histplot(data=df, x=col, kde=True, ax=axes[i])\n",
    "    \n",
    "plt.suptitle('Distribution des variables')\n",
    "plt.tight_layout()"
   ]
  },
  {
   "cell_type": "markdown",
   "id": "5eda2afe",
   "metadata": {},
   "source": [
    "une similarité apparente entre Frequency of Use et Seconds of Use."
   ]
  },
  {
   "cell_type": "markdown",
   "id": "1b772796",
   "metadata": {},
   "source": [
    "## Analyse bivariée"
   ]
  },
  {
   "cell_type": "markdown",
   "id": "bdd4f757",
   "metadata": {},
   "source": [
    "### Matrice de corrélation"
   ]
  },
  {
   "cell_type": "code",
   "execution_count": null,
   "id": "4391e278",
   "metadata": {},
   "outputs": [],
   "source": [
    "corr_matrix = df.corr()\n",
    "\n",
    "# Afficher la matrice de corrélation avec Seaborn\n",
    "plt.figure(figsize=(10, 8))\n",
    "sns.heatmap(corr_matrix, annot=True, cmap='coolwarm', linewidths=0.5)\n",
    "plt.title('Matrice de corrélation')\n",
    "plt.show()"
   ]
  },
  {
   "cell_type": "code",
   "execution_count": null,
   "id": "2628e664",
   "metadata": {},
   "outputs": [],
   "source": [
    "c = pd.crosstab(df['Complains'], df['Churn'])\n",
    "complains_churn_pourcentage = c.loc[:, 1] / c.sum(axis=1) * 100\n",
    "complains_not_churn_pourcentage = c.loc[:, 0] / c.sum(axis=1) * 100\n",
    "\n",
    "# Créer un graphique à barres en utilisant Seaborn\n",
    "plt.figure(figsize=(8, 6))\n",
    "sns.barplot(x=['No Complaints', 'Complaints'], y=complains_churn_pourcentage, color='#66b3ff', label='Churned')\n",
    "sns.barplot(x=['No Complaints', 'Complaints'], y=complains_not_churn_pourcentage, color='#99ff99', bottom=complains_churn_pourcentage, label='Not Churned')\n",
    "\n",
    "# Ajouter des étiquettes et un titre\n",
    "plt.xlabel('Complaints')\n",
    "plt.ylabel('Percentage (%)')\n",
    "plt.title('Churned Percentage Based on Complaints')\n",
    "plt.legend()"
   ]
  },
  {
   "cell_type": "markdown",
   "id": "f1ca4a63",
   "metadata": {},
   "source": [
    "###  la corrélation entre la colonne 'Churn' et les autres caractéristiques."
   ]
  },
  {
   "cell_type": "code",
   "execution_count": null,
   "id": "2fdac211",
   "metadata": {},
   "outputs": [],
   "source": [
    "df.drop('Churn', axis=1).corrwith(df.Churn).abs().plot(kind='barh',\n",
    "                                                           figsize=(8, 6),\n",
    "                                                           color='forestgreen',\n",
    "                                                           title=\"Churn vs all Features\")"
   ]
  },
  {
   "cell_type": "markdown",
   "id": "f62a3b07",
   "metadata": {},
   "source": [
    "### Box plot pour comparer \"Seconds of Use\" entre les deux groupes de \"Tariff Plan\""
   ]
  },
  {
   "cell_type": "code",
   "execution_count": null,
   "id": "e441850a",
   "metadata": {},
   "outputs": [],
   "source": [
    "plt.figure(figsize=(6, 5))\n",
    "sns.boxplot(x='Tariff Plan', y='Seconds of Use', data=df)\n",
    "plt.title('Box Plot - Seconds of Use par Tariff Plan')\n",
    "plt.figure(figsize=(6, 5))\n",
    "sns.boxplot(x='Churn', y='Customer Value', data=df)\n",
    "plt.title('Box Plot - Customer value par Churn')\n",
    "plt.show()"
   ]
  },
  {
   "cell_type": "code",
   "execution_count": null,
   "id": "326767cd",
   "metadata": {},
   "outputs": [],
   "source": [
    "import matplotlib\n",
    "plt.figure(figsize=(32, 32))\n",
    "matplotlib.rc('axes', titlesize=24)#cols size\n",
    "cols = ['Subscription  Length', 'Call  Failure',\n",
    "        'Frequency of use', 'Age', 'Distinct Called Numbers',\n",
    "        'Charge  Amount']\n",
    "for i, column in enumerate(cols, 1):\n",
    "    plt.subplot(4, 4, i)\n",
    "    df[df[\"Churn\"] == 0][column].hist(bins=20, color='pink', label='churn = 0(non-churn)', alpha=1)\n",
    "    df[df[\"Churn\"] == 1][column].hist(bins=20, color='tomato', label='churn = 1(churn)', alpha=1)\n",
    "    plt.legend(fontsize='medium')\n",
    "    plt.title(column)"
   ]
  },
  {
   "cell_type": "markdown",
   "id": "4ed72a84",
   "metadata": {},
   "source": [
    "nous pouvons visualiser le nombre de désabonnement et non désabonnement en fonction de changement de certains variables qu'on estime importantes"
   ]
  },
  {
   "cell_type": "code",
   "execution_count": null,
   "id": "b8126b12",
   "metadata": {},
   "outputs": [],
   "source": []
  }
 ],
 "metadata": {
  "kernelspec": {
   "display_name": "Python 3 (ipykernel)",
   "language": "python",
   "name": "python3"
  },
  "language_info": {
   "codemirror_mode": {
    "name": "ipython",
    "version": 3
   },
   "file_extension": ".py",
   "mimetype": "text/x-python",
   "name": "python",
   "nbconvert_exporter": "python",
   "pygments_lexer": "ipython3",
   "version": "3.10.9"
  }
 },
 "nbformat": 4,
 "nbformat_minor": 5
}
